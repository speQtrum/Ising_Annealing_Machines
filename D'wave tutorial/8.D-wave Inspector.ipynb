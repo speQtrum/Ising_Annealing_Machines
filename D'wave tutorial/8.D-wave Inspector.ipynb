{
 "metadata": {
  "language_info": {
   "codemirror_mode": {
    "name": "ipython",
    "version": 3
   },
   "file_extension": ".py",
   "mimetype": "text/x-python",
   "name": "python",
   "nbconvert_exporter": "python",
   "pygments_lexer": "ipython3",
   "version": "3.6.13"
  },
  "orig_nbformat": 2,
  "kernelspec": {
   "name": "python3",
   "display_name": "Python 3.6.13 64-bit ('ising_env': conda)",
   "metadata": {
    "interpreter": {
     "hash": "c6e842e841a45ed89d537027384962cfb6aec6f48a7dc63c2dbb61087ffd3d81"
    }
   }
  }
 },
 "nbformat": 4,
 "nbformat_minor": 2,
 "cells": [
  {
   "cell_type": "code",
   "execution_count": 1,
   "metadata": {},
   "outputs": [],
   "source": [
    "import numpy as np\n",
    "import pandas as pd\n",
    "import dimod\n",
    "from dwave.system import EmbeddingComposite, DWaveSampler\n",
    "import dwave.inspector\n"
   ]
  },
  {
   "cell_type": "code",
   "execution_count": null,
   "metadata": {},
   "outputs": [],
   "source": [
    "###########  Generating Random QUBO  ###############\n",
    "\n",
    "M = np.random.random((4,4))\n",
    "P = M.T + M\n",
    "print(P)"
   ]
  },
  {
   "cell_type": "code",
   "execution_count": 2,
   "metadata": {},
   "outputs": [
    {
     "output_type": "stream",
     "name": "stdout",
     "text": [
      "BinaryQuadraticModel({0: -4.4, 1: 0.6, 2: -2.0}, {(0, 1): 2.8, (1, 2): -0.8}, 2.4, 'BINARY')\n\n [[-4.4  2.8  0. ]\n [ 0.   0.6 -0.8]\n [ 0.   0.  -2. ]]\n"
     ]
    }
   ],
   "source": [
    "linear = {0: -4.4, 1: 0.6, 2: -2}\n",
    "quadratic = {(0,1): 2.8, (1,2):-0.8}\n",
    "offset = 2.4\n",
    "\n",
    "bqm_qubo = dimod.BinaryQuadraticModel(linear,quadratic,offset,dimod.Vartype.BINARY)\n",
    "print(bqm_qubo)\n",
    "print('\\n',bqm_qubo.to_numpy_matrix().astype(float))"
   ]
  },
  {
   "cell_type": "code",
   "execution_count": 4,
   "metadata": {},
   "outputs": [
    {
     "output_type": "stream",
     "name": "stdout",
     "text": [
      "   0  1  2 energy num_oc. chain_.\n0  1  0  1   -4.0      20     0.0\n['BINARY', 1 rows, 20 samples, 3 variables]\n"
     ]
    }
   ],
   "source": [
    "sampler = EmbeddingComposite(DWaveSampler(solver={'qpu': True}))\n",
    "sampleset = sampler.sample(bqm_qubo, num_reads=20)\n",
    "print(sampleset)"
   ]
  },
  {
   "cell_type": "code",
   "execution_count": 5,
   "metadata": {},
   "outputs": [
    {
     "output_type": "execute_result",
     "data": {
      "text/plain": [
       "'http://127.0.0.1:18000/?problemId=b86a76f4-b4f8-4a36-8722-a1baac1303c8'"
      ]
     },
     "metadata": {},
     "execution_count": 5
    }
   ],
   "source": [
    "dwave.inspector.show(sampleset)"
   ]
  },
  {
   "cell_type": "code",
   "execution_count": null,
   "metadata": {},
   "outputs": [],
   "source": []
  }
 ]
}