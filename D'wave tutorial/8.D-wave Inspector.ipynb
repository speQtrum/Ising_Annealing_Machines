{
 "metadata": {
  "language_info": {
   "codemirror_mode": {
    "name": "ipython",
    "version": 3
   },
   "file_extension": ".py",
   "mimetype": "text/x-python",
   "name": "python",
   "nbconvert_exporter": "python",
   "pygments_lexer": "ipython3",
   "version": "3.6.13"
  },
  "orig_nbformat": 2,
  "kernelspec": {
   "name": "python3",
   "display_name": "Python 3.6.13 64-bit ('ising_env': conda)",
   "metadata": {
    "interpreter": {
     "hash": "c6e842e841a45ed89d537027384962cfb6aec6f48a7dc63c2dbb61087ffd3d81"
    }
   }
  }
 },
 "nbformat": 4,
 "nbformat_minor": 2,
 "cells": [
  {
   "cell_type": "code",
   "execution_count": 3,
   "metadata": {},
   "outputs": [],
   "source": [
    "import numpy as np\n",
    "import pandas as pd\n",
    "import dimod\n",
    "from dwave.system import EmbeddingComposite, DWaveSampler\n",
    "import dwave.inspector\n"
   ]
  },
  {
   "cell_type": "code",
   "execution_count": 4,
   "metadata": {},
   "outputs": [
    {
     "output_type": "stream",
     "name": "stdout",
     "text": [
      "[[1.08269966 0.95921834 1.16614819 0.80679562]\n [0.95921834 1.33398325 1.02094704 0.95546451]\n [1.16614819 1.02094704 0.09223871 0.44627789]\n [0.80679562 0.95546451 0.44627789 0.90869096]]\n"
     ]
    }
   ],
   "source": [
    "###########  Generating Random QUBO  ###############\n",
    "\n",
    "M = np.random.random((4,4))\n",
    "P = M.T + M\n",
    "print(P)"
   ]
  },
  {
   "cell_type": "code",
   "execution_count": 5,
   "metadata": {},
   "outputs": [
    {
     "output_type": "stream",
     "name": "stdout",
     "text": [
      "BinaryQuadraticModel({0: 1.082699660122509, 1: 1.3339832501451168, 2: 0.09223871110771009, 3: 0.9086909621187236}, {(0, 1): 1.9184366873596248, (0, 2): 2.3322963887932255, (0, 3): 1.6135912327268733, (1, 2): 2.041894089414144, (1, 3): 1.9109290264556862, (2, 3): 0.8925557725863487}, 0.0, 'BINARY')\n\n\n [[1.08269966 1.91843669 2.33229639 1.61359123]\n [0.         1.33398325 2.04189409 1.91092903]\n [0.         0.         0.09223871 0.89255577]\n [0.         0.         0.         0.90869096]]\n"
     ]
    }
   ],
   "source": [
    "\n",
    "bqm_qubo = dimod.BinaryQuadraticModel.from_numpy_matrix(P)\n",
    "print(bqm_qubo)\n",
    "print('\\n\\n',bqm_qubo.to_numpy_matrix().astype(float))"
   ]
  },
  {
   "cell_type": "code",
   "execution_count": 6,
   "metadata": {},
   "outputs": [
    {
     "output_type": "stream",
     "name": "stdout",
     "text": [
      "   0  1  2  3   energy num_oc. chain_.\n0  0  0  0  0      0.0      10     0.0\n1  0  0  1  0 0.092239      10     0.0\n['BINARY', 2 rows, 20 samples, 4 variables]\n"
     ]
    }
   ],
   "source": [
    "sampler = EmbeddingComposite(DWaveSampler(solver={'qpu': True}))\n",
    "sampleset = sampler.sample(bqm_qubo, num_reads=20)\n",
    "print(sampleset)"
   ]
  },
  {
   "cell_type": "code",
   "execution_count": 7,
   "metadata": {},
   "outputs": [
    {
     "output_type": "execute_result",
     "data": {
      "text/plain": [
       "'http://127.0.0.1:18000/?problemId=f2c84349-0e10-4f41-af3d-9641e84c39b0'"
      ]
     },
     "metadata": {},
     "execution_count": 7
    }
   ],
   "source": [
    "dwave.inspector.show(sampleset)"
   ]
  },
  {
   "cell_type": "code",
   "execution_count": null,
   "metadata": {},
   "outputs": [],
   "source": []
  }
 ]
}